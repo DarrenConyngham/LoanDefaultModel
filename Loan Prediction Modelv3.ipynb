{
 "cells": [
  {
   "cell_type": "markdown",
   "metadata": {},
   "source": [
    "## Starter Code"
   ]
  },
  {
   "cell_type": "code",
   "execution_count": null,
   "metadata": {},
   "outputs": [],
   "source": [
    "import pandas as pd"
   ]
  },
  {
   "cell_type": "code",
   "execution_count": null,
   "metadata": {},
   "outputs": [],
   "source": [
    "data_info = pd.read_csv('../DATA/lending_club_info.csv',index_col='LoanStatNew')"
   ]
  },
  {
   "cell_type": "code",
   "execution_count": null,
   "metadata": {},
   "outputs": [],
   "source": [
    "print(data_info.loc['revol_util']['Description'])"
   ]
  },
  {
   "cell_type": "code",
   "execution_count": null,
   "metadata": {},
   "outputs": [],
   "source": [
    "def feat_info(col_name):\n",
    "    print(data_info.loc[col_name]['Description'])"
   ]
  },
  {
   "cell_type": "code",
   "execution_count": null,
   "metadata": {},
   "outputs": [],
   "source": [
    "feat_info('mort_acc')"
   ]
  },
  {
   "cell_type": "code",
   "execution_count": null,
   "metadata": {},
   "outputs": [],
   "source": [
    "data_info"
   ]
  },
  {
   "cell_type": "markdown",
   "metadata": {},
   "source": [
    "## Importing Data and Basic Information"
   ]
  },
  {
   "cell_type": "code",
   "execution_count": 1,
   "metadata": {},
   "outputs": [],
   "source": [
    "import pandas as pd\n",
    "import numpy as np\n",
    "import matplotlib.pyplot as plt\n",
    "import seaborn as sns"
   ]
  },
  {
   "cell_type": "code",
   "execution_count": 2,
   "metadata": {},
   "outputs": [],
   "source": [
    "df = pd.read_csv('../DATA/lending_club_loan_two.csv')"
   ]
  },
  {
   "cell_type": "code",
   "execution_count": 3,
   "metadata": {},
   "outputs": [
    {
     "data": {
      "text/html": [
       "<div>\n",
       "<style scoped>\n",
       "    .dataframe tbody tr th:only-of-type {\n",
       "        vertical-align: middle;\n",
       "    }\n",
       "\n",
       "    .dataframe tbody tr th {\n",
       "        vertical-align: top;\n",
       "    }\n",
       "\n",
       "    .dataframe thead th {\n",
       "        text-align: right;\n",
       "    }\n",
       "</style>\n",
       "<table border=\"1\" class=\"dataframe\">\n",
       "  <thead>\n",
       "    <tr style=\"text-align: right;\">\n",
       "      <th></th>\n",
       "      <th>loan_amnt</th>\n",
       "      <th>term</th>\n",
       "      <th>int_rate</th>\n",
       "      <th>installment</th>\n",
       "      <th>grade</th>\n",
       "      <th>sub_grade</th>\n",
       "      <th>emp_title</th>\n",
       "      <th>emp_length</th>\n",
       "      <th>home_ownership</th>\n",
       "      <th>annual_inc</th>\n",
       "      <th>...</th>\n",
       "      <th>open_acc</th>\n",
       "      <th>pub_rec</th>\n",
       "      <th>revol_bal</th>\n",
       "      <th>revol_util</th>\n",
       "      <th>total_acc</th>\n",
       "      <th>initial_list_status</th>\n",
       "      <th>application_type</th>\n",
       "      <th>mort_acc</th>\n",
       "      <th>pub_rec_bankruptcies</th>\n",
       "      <th>address</th>\n",
       "    </tr>\n",
       "  </thead>\n",
       "  <tbody>\n",
       "    <tr>\n",
       "      <th>0</th>\n",
       "      <td>10000.0</td>\n",
       "      <td>36 months</td>\n",
       "      <td>11.44</td>\n",
       "      <td>329.48</td>\n",
       "      <td>B</td>\n",
       "      <td>B4</td>\n",
       "      <td>Marketing</td>\n",
       "      <td>10+ years</td>\n",
       "      <td>RENT</td>\n",
       "      <td>117000.0</td>\n",
       "      <td>...</td>\n",
       "      <td>16.0</td>\n",
       "      <td>0.0</td>\n",
       "      <td>36369.0</td>\n",
       "      <td>41.8</td>\n",
       "      <td>25.0</td>\n",
       "      <td>w</td>\n",
       "      <td>INDIVIDUAL</td>\n",
       "      <td>0.0</td>\n",
       "      <td>0.0</td>\n",
       "      <td>0174 Michelle Gateway\\nMendozaberg, OK 22690</td>\n",
       "    </tr>\n",
       "    <tr>\n",
       "      <th>1</th>\n",
       "      <td>8000.0</td>\n",
       "      <td>36 months</td>\n",
       "      <td>11.99</td>\n",
       "      <td>265.68</td>\n",
       "      <td>B</td>\n",
       "      <td>B5</td>\n",
       "      <td>Credit analyst</td>\n",
       "      <td>4 years</td>\n",
       "      <td>MORTGAGE</td>\n",
       "      <td>65000.0</td>\n",
       "      <td>...</td>\n",
       "      <td>17.0</td>\n",
       "      <td>0.0</td>\n",
       "      <td>20131.0</td>\n",
       "      <td>53.3</td>\n",
       "      <td>27.0</td>\n",
       "      <td>f</td>\n",
       "      <td>INDIVIDUAL</td>\n",
       "      <td>3.0</td>\n",
       "      <td>0.0</td>\n",
       "      <td>1076 Carney Fort Apt. 347\\nLoganmouth, SD 05113</td>\n",
       "    </tr>\n",
       "  </tbody>\n",
       "</table>\n",
       "<p>2 rows × 27 columns</p>\n",
       "</div>"
      ],
      "text/plain": [
       "   loan_amnt        term  int_rate  installment grade sub_grade  \\\n",
       "0    10000.0   36 months     11.44       329.48     B        B4   \n",
       "1     8000.0   36 months     11.99       265.68     B        B5   \n",
       "\n",
       "         emp_title emp_length home_ownership  annual_inc  ... open_acc  \\\n",
       "0        Marketing  10+ years           RENT    117000.0  ...     16.0   \n",
       "1  Credit analyst     4 years       MORTGAGE     65000.0  ...     17.0   \n",
       "\n",
       "  pub_rec revol_bal revol_util total_acc  initial_list_status  \\\n",
       "0     0.0   36369.0       41.8      25.0                    w   \n",
       "1     0.0   20131.0       53.3      27.0                    f   \n",
       "\n",
       "  application_type  mort_acc  pub_rec_bankruptcies  \\\n",
       "0       INDIVIDUAL       0.0                   0.0   \n",
       "1       INDIVIDUAL       3.0                   0.0   \n",
       "\n",
       "                                           address  \n",
       "0     0174 Michelle Gateway\\nMendozaberg, OK 22690  \n",
       "1  1076 Carney Fort Apt. 347\\nLoganmouth, SD 05113  \n",
       "\n",
       "[2 rows x 27 columns]"
      ]
     },
     "execution_count": 3,
     "metadata": {},
     "output_type": "execute_result"
    }
   ],
   "source": [
    "df.head(2)"
   ]
  },
  {
   "cell_type": "code",
   "execution_count": 4,
   "metadata": {},
   "outputs": [
    {
     "data": {
      "text/plain": [
       "mort_acc                37795\n",
       "emp_title               22927\n",
       "emp_length              18301\n",
       "title                    1755\n",
       "pub_rec_bankruptcies      535\n",
       "revol_util                276\n",
       "dtype: int64"
      ]
     },
     "execution_count": 4,
     "metadata": {},
     "output_type": "execute_result"
    }
   ],
   "source": [
    "df.isna().sum()[df.isna().sum() > 0].sort_values(ascending=False)"
   ]
  },
  {
   "cell_type": "markdown",
   "metadata": {},
   "source": [
    "There is missing data in 6 of the columns in the dataset. I will need to deal with this."
   ]
  },
  {
   "cell_type": "code",
   "execution_count": 5,
   "metadata": {},
   "outputs": [
    {
     "data": {
      "text/html": [
       "<div>\n",
       "<style scoped>\n",
       "    .dataframe tbody tr th:only-of-type {\n",
       "        vertical-align: middle;\n",
       "    }\n",
       "\n",
       "    .dataframe tbody tr th {\n",
       "        vertical-align: top;\n",
       "    }\n",
       "\n",
       "    .dataframe thead th {\n",
       "        text-align: right;\n",
       "    }\n",
       "</style>\n",
       "<table border=\"1\" class=\"dataframe\">\n",
       "  <thead>\n",
       "    <tr style=\"text-align: right;\">\n",
       "      <th></th>\n",
       "      <th>count</th>\n",
       "      <th>mean</th>\n",
       "      <th>std</th>\n",
       "      <th>min</th>\n",
       "      <th>25%</th>\n",
       "      <th>50%</th>\n",
       "      <th>75%</th>\n",
       "      <th>max</th>\n",
       "    </tr>\n",
       "  </thead>\n",
       "  <tbody>\n",
       "    <tr>\n",
       "      <th>loan_amnt</th>\n",
       "      <td>396030.0</td>\n",
       "      <td>14113.888089</td>\n",
       "      <td>8357.441341</td>\n",
       "      <td>500.00</td>\n",
       "      <td>8000.00</td>\n",
       "      <td>12000.00</td>\n",
       "      <td>20000.00</td>\n",
       "      <td>40000.00</td>\n",
       "    </tr>\n",
       "    <tr>\n",
       "      <th>int_rate</th>\n",
       "      <td>396030.0</td>\n",
       "      <td>13.639400</td>\n",
       "      <td>4.472157</td>\n",
       "      <td>5.32</td>\n",
       "      <td>10.49</td>\n",
       "      <td>13.33</td>\n",
       "      <td>16.49</td>\n",
       "      <td>30.99</td>\n",
       "    </tr>\n",
       "    <tr>\n",
       "      <th>installment</th>\n",
       "      <td>396030.0</td>\n",
       "      <td>431.849698</td>\n",
       "      <td>250.727790</td>\n",
       "      <td>16.08</td>\n",
       "      <td>250.33</td>\n",
       "      <td>375.43</td>\n",
       "      <td>567.30</td>\n",
       "      <td>1533.81</td>\n",
       "    </tr>\n",
       "    <tr>\n",
       "      <th>annual_inc</th>\n",
       "      <td>396030.0</td>\n",
       "      <td>74203.175798</td>\n",
       "      <td>61637.621158</td>\n",
       "      <td>0.00</td>\n",
       "      <td>45000.00</td>\n",
       "      <td>64000.00</td>\n",
       "      <td>90000.00</td>\n",
       "      <td>8706582.00</td>\n",
       "    </tr>\n",
       "    <tr>\n",
       "      <th>dti</th>\n",
       "      <td>396030.0</td>\n",
       "      <td>17.379514</td>\n",
       "      <td>18.019092</td>\n",
       "      <td>0.00</td>\n",
       "      <td>11.28</td>\n",
       "      <td>16.91</td>\n",
       "      <td>22.98</td>\n",
       "      <td>9999.00</td>\n",
       "    </tr>\n",
       "    <tr>\n",
       "      <th>open_acc</th>\n",
       "      <td>396030.0</td>\n",
       "      <td>11.311153</td>\n",
       "      <td>5.137649</td>\n",
       "      <td>0.00</td>\n",
       "      <td>8.00</td>\n",
       "      <td>10.00</td>\n",
       "      <td>14.00</td>\n",
       "      <td>90.00</td>\n",
       "    </tr>\n",
       "    <tr>\n",
       "      <th>pub_rec</th>\n",
       "      <td>396030.0</td>\n",
       "      <td>0.178191</td>\n",
       "      <td>0.530671</td>\n",
       "      <td>0.00</td>\n",
       "      <td>0.00</td>\n",
       "      <td>0.00</td>\n",
       "      <td>0.00</td>\n",
       "      <td>86.00</td>\n",
       "    </tr>\n",
       "    <tr>\n",
       "      <th>revol_bal</th>\n",
       "      <td>396030.0</td>\n",
       "      <td>15844.539853</td>\n",
       "      <td>20591.836109</td>\n",
       "      <td>0.00</td>\n",
       "      <td>6025.00</td>\n",
       "      <td>11181.00</td>\n",
       "      <td>19620.00</td>\n",
       "      <td>1743266.00</td>\n",
       "    </tr>\n",
       "    <tr>\n",
       "      <th>revol_util</th>\n",
       "      <td>395754.0</td>\n",
       "      <td>53.791749</td>\n",
       "      <td>24.452193</td>\n",
       "      <td>0.00</td>\n",
       "      <td>35.80</td>\n",
       "      <td>54.80</td>\n",
       "      <td>72.90</td>\n",
       "      <td>892.30</td>\n",
       "    </tr>\n",
       "    <tr>\n",
       "      <th>total_acc</th>\n",
       "      <td>396030.0</td>\n",
       "      <td>25.414744</td>\n",
       "      <td>11.886991</td>\n",
       "      <td>2.00</td>\n",
       "      <td>17.00</td>\n",
       "      <td>24.00</td>\n",
       "      <td>32.00</td>\n",
       "      <td>151.00</td>\n",
       "    </tr>\n",
       "    <tr>\n",
       "      <th>mort_acc</th>\n",
       "      <td>358235.0</td>\n",
       "      <td>1.813991</td>\n",
       "      <td>2.147930</td>\n",
       "      <td>0.00</td>\n",
       "      <td>0.00</td>\n",
       "      <td>1.00</td>\n",
       "      <td>3.00</td>\n",
       "      <td>34.00</td>\n",
       "    </tr>\n",
       "    <tr>\n",
       "      <th>pub_rec_bankruptcies</th>\n",
       "      <td>395495.0</td>\n",
       "      <td>0.121648</td>\n",
       "      <td>0.356174</td>\n",
       "      <td>0.00</td>\n",
       "      <td>0.00</td>\n",
       "      <td>0.00</td>\n",
       "      <td>0.00</td>\n",
       "      <td>8.00</td>\n",
       "    </tr>\n",
       "  </tbody>\n",
       "</table>\n",
       "</div>"
      ],
      "text/plain": [
       "                         count          mean           std     min       25%  \\\n",
       "loan_amnt             396030.0  14113.888089   8357.441341  500.00   8000.00   \n",
       "int_rate              396030.0     13.639400      4.472157    5.32     10.49   \n",
       "installment           396030.0    431.849698    250.727790   16.08    250.33   \n",
       "annual_inc            396030.0  74203.175798  61637.621158    0.00  45000.00   \n",
       "dti                   396030.0     17.379514     18.019092    0.00     11.28   \n",
       "open_acc              396030.0     11.311153      5.137649    0.00      8.00   \n",
       "pub_rec               396030.0      0.178191      0.530671    0.00      0.00   \n",
       "revol_bal             396030.0  15844.539853  20591.836109    0.00   6025.00   \n",
       "revol_util            395754.0     53.791749     24.452193    0.00     35.80   \n",
       "total_acc             396030.0     25.414744     11.886991    2.00     17.00   \n",
       "mort_acc              358235.0      1.813991      2.147930    0.00      0.00   \n",
       "pub_rec_bankruptcies  395495.0      0.121648      0.356174    0.00      0.00   \n",
       "\n",
       "                           50%       75%         max  \n",
       "loan_amnt             12000.00  20000.00    40000.00  \n",
       "int_rate                 13.33     16.49       30.99  \n",
       "installment             375.43    567.30     1533.81  \n",
       "annual_inc            64000.00  90000.00  8706582.00  \n",
       "dti                      16.91     22.98     9999.00  \n",
       "open_acc                 10.00     14.00       90.00  \n",
       "pub_rec                   0.00      0.00       86.00  \n",
       "revol_bal             11181.00  19620.00  1743266.00  \n",
       "revol_util               54.80     72.90      892.30  \n",
       "total_acc                24.00     32.00      151.00  \n",
       "mort_acc                  1.00      3.00       34.00  \n",
       "pub_rec_bankruptcies      0.00      0.00        8.00  "
      ]
     },
     "execution_count": 5,
     "metadata": {},
     "output_type": "execute_result"
    }
   ],
   "source": [
    "df.describe().transpose()"
   ]
  },
  {
   "cell_type": "markdown",
   "metadata": {},
   "source": [
    "## Cleaning the data"
   ]
  },
  {
   "cell_type": "markdown",
   "metadata": {},
   "source": [
    "Converting the Date columns to date_time>"
   ]
  },
  {
   "cell_type": "code",
   "execution_count": 6,
   "metadata": {},
   "outputs": [],
   "source": [
    "df['issue_d'] = pd.to_datetime(df['issue_d'])"
   ]
  },
  {
   "cell_type": "markdown",
   "metadata": {},
   "source": [
    "Machine learning models work best, and in many cases only work, when the values are numerical (ints or floats) and not missing. As can be seen in the `df.info()` call above; many columns have missing values and are not in a numerical format. I have applies 3 strategies for dealing with these columns: a) Dropping the column completely, b) Converting the column into a numerical format, c) Filling in the missing values."
   ]
  },
  {
   "cell_type": "code",
   "execution_count": 7,
   "metadata": {},
   "outputs": [
    {
     "data": {
      "text/plain": [
       "<matplotlib.axes._subplots.AxesSubplot at 0x17a2e93b5c8>"
      ]
     },
     "execution_count": 7,
     "metadata": {},
     "output_type": "execute_result"
    },
    {
     "data": {
      "image/png": "[encoded data removed]",
      "text/plain": [
       "<Figure size 432x288 with 1 Axes>"
      ]
     },
     "metadata": {
      "needs_background": "light"
     },
     "output_type": "display_data"
    }
   ],
   "source": [
    "sns.countplot(df['loan_status'])"
   ]
  },
  {
   "cell_type": "markdown",
   "metadata": {},
   "source": [
    "The `loan_status` column is currently represented as a string. I will change that to a dummy variable.\n",
    "\n",
    "**Note that the dataset is not very well balanced. This is worth taking into consideration when measuring performance later.**"
   ]
  },
  {
   "cell_type": "code",
   "execution_count": 8,
   "metadata": {},
   "outputs": [
    {
     "data": {
      "text/plain": [
       "Fully Paid     318357\n",
       "Charged Off     77673\n",
       "Name: loan_status, dtype: int64"
      ]
     },
     "execution_count": 8,
     "metadata": {},
     "output_type": "execute_result"
    }
   ],
   "source": [
    "df.loan_status.value_counts()"
   ]
  },
  {
   "cell_type": "code",
   "execution_count": 9,
   "metadata": {},
   "outputs": [],
   "source": [
    "df['loan_status'] = df['loan_status'].replace({'Fully Paid': 0, 'Charged Off': 1})"
   ]
  },
  {
   "cell_type": "markdown",
   "metadata": {},
   "source": [
    "Converted the `loan_status` column so that zero represents it being \"Charged Off\" and one represents it being \"Fully Paid\"."
   ]
  },
  {
   "cell_type": "code",
   "execution_count": 10,
   "metadata": {},
   "outputs": [
    {
     "data": {
      "text/html": [
       "<div>\n",
       "<style scoped>\n",
       "    .dataframe tbody tr th:only-of-type {\n",
       "        vertical-align: middle;\n",
       "    }\n",
       "\n",
       "    .dataframe tbody tr th {\n",
       "        vertical-align: top;\n",
       "    }\n",
       "\n",
       "    .dataframe thead th {\n",
       "        text-align: right;\n",
       "    }\n",
       "</style>\n",
       "<table border=\"1\" class=\"dataframe\">\n",
       "  <thead>\n",
       "    <tr style=\"text-align: right;\">\n",
       "      <th></th>\n",
       "      <th>count</th>\n",
       "      <th>mean</th>\n",
       "    </tr>\n",
       "    <tr>\n",
       "      <th>home_ownership</th>\n",
       "      <th></th>\n",
       "      <th></th>\n",
       "    </tr>\n",
       "  </thead>\n",
       "  <tbody>\n",
       "    <tr>\n",
       "      <th>RENT</th>\n",
       "      <td>159790</td>\n",
       "      <td>0.226622</td>\n",
       "    </tr>\n",
       "    <tr>\n",
       "      <th>NONE</th>\n",
       "      <td>31</td>\n",
       "      <td>0.225806</td>\n",
       "    </tr>\n",
       "    <tr>\n",
       "      <th>OWN</th>\n",
       "      <td>37746</td>\n",
       "      <td>0.206803</td>\n",
       "    </tr>\n",
       "    <tr>\n",
       "      <th>MORTGAGE</th>\n",
       "      <td>198348</td>\n",
       "      <td>0.169561</td>\n",
       "    </tr>\n",
       "    <tr>\n",
       "      <th>OTHER</th>\n",
       "      <td>112</td>\n",
       "      <td>0.142857</td>\n",
       "    </tr>\n",
       "    <tr>\n",
       "      <th>ANY</th>\n",
       "      <td>3</td>\n",
       "      <td>0.000000</td>\n",
       "    </tr>\n",
       "  </tbody>\n",
       "</table>\n",
       "</div>"
      ],
      "text/plain": [
       "                 count      mean\n",
       "home_ownership                  \n",
       "RENT            159790  0.226622\n",
       "NONE                31  0.225806\n",
       "OWN              37746  0.206803\n",
       "MORTGAGE        198348  0.169561\n",
       "OTHER              112  0.142857\n",
       "ANY                  3  0.000000"
      ]
     },
     "execution_count": 10,
     "metadata": {},
     "output_type": "execute_result"
    }
   ],
   "source": [
    "df.groupby('home_ownership')['loan_status'].agg(['count', 'mean']).sort_values('mean', ascending=False)"
   ]
  },
  {
   "cell_type": "code",
   "execution_count": 11,
   "metadata": {},
   "outputs": [],
   "source": [
    "df['is_renter'] = df['home_ownership'].apply(lambda x: 1 if x=='RENT' else 0)"
   ]
  },
  {
   "cell_type": "markdown",
   "metadata": {},
   "source": [
    "### A) Dropping the column completely "
   ]
  },
  {
   "cell_type": "code",
   "execution_count": 12,
   "metadata": {},
   "outputs": [],
   "source": [
    "df = df.drop(columns=['title', 'earliest_cr_line']) "
   ]
  },
  {
   "cell_type": "markdown",
   "metadata": {},
   "source": [
    "It is quite possible that the values in these columns are correlated with `loan_status`, however this is the first iteration of the model and so I am trying to keep it simple."
   ]
  },
  {
   "cell_type": "markdown",
   "metadata": {},
   "source": [
    "### B) Converting the Columns"
   ]
  },
  {
   "cell_type": "code",
   "execution_count": 13,
   "metadata": {},
   "outputs": [],
   "source": [
    "df = pd.concat([df, pd.get_dummies(df.address.str.split(' ').str.get(-1), prefix='area_code',drop_first=True)], axis=1)"
   ]
  },
  {
   "cell_type": "code",
   "execution_count": 14,
   "metadata": {},
   "outputs": [],
   "source": [
    "df = pd.concat([df, pd.get_dummies(df.purpose, prefix='purpose',drop_first=True)], axis=1)"
   ]
  },
  {
   "cell_type": "code",
   "execution_count": 15,
   "metadata": {},
   "outputs": [],
   "source": [
    "df = pd.concat([df, pd.get_dummies(df.home_ownership, prefix='home_ownership',drop_first=True)], axis=1)"
   ]
  },
  {
   "cell_type": "code",
   "execution_count": 16,
   "metadata": {},
   "outputs": [],
   "source": [
    "df = df.drop(columns=['home_ownership', 'purpose', 'address'])"
   ]
  },
  {
   "cell_type": "code",
   "execution_count": 17,
   "metadata": {},
   "outputs": [],
   "source": [
    "df['dti'] = df['dti'].replace({9999.0: df.dti.mean()})"
   ]
  },
  {
   "cell_type": "code",
   "execution_count": 18,
   "metadata": {},
   "outputs": [
    {
     "data": {
      "image/png": "[encoded data removed]",
      "text/plain": [
       "<Figure size 432x288 with 1 Axes>"
      ]
     },
     "metadata": {
      "needs_background": "light"
     },
     "output_type": "display_data"
    }
   ],
   "source": [
    "sns.countplot(df['term']);"
   ]
  },
  {
   "cell_type": "markdown",
   "metadata": {},
   "source": [
    "The `term` column is also represented as a string when really it should be a number. "
   ]
  },
  {
   "cell_type": "code",
   "execution_count": 19,
   "metadata": {},
   "outputs": [],
   "source": [
    "df['term'] = df['term'].replace({' 36 months': 36, ' 60 months': 60})"
   ]
  },
  {
   "cell_type": "code",
   "execution_count": 20,
   "metadata": {},
   "outputs": [],
   "source": [
    "df['initial_list_status_is_w'] = df['initial_list_status'].replace({'w': 1, 'f': 0})"
   ]
  },
  {
   "cell_type": "code",
   "execution_count": 21,
   "metadata": {},
   "outputs": [],
   "source": [
    "df = df.drop(columns='initial_list_status')"
   ]
  },
  {
   "cell_type": "code",
   "execution_count": 22,
   "metadata": {},
   "outputs": [],
   "source": [
    "df['emp_length'] = df['emp_length'].replace({'10+ years':14, '2 years':2, '< 1 year':0.5, '3 years':3, '5 years':5, '1 year':1,\n",
    "       '4 years':4, '6 years':6, '7 years':7, '8 years':8, '9 years':9})\n",
    "df['emp_length'] = df['emp_length'].fillna(df['emp_length'].mean())"
   ]
  },
  {
   "cell_type": "code",
   "execution_count": 23,
   "metadata": {},
   "outputs": [
    {
     "data": {
      "text/plain": [
       "verification_status\n",
       "Not Verified       0.146360\n",
       "Source Verified    0.214743\n",
       "Verified           0.223211\n",
       "Name: loan_status, dtype: float64"
      ]
     },
     "execution_count": 23,
     "metadata": {},
     "output_type": "execute_result"
    }
   ],
   "source": [
    "df.groupby('verification_status')['loan_status'].mean()"
   ]
  },
  {
   "cell_type": "markdown",
   "metadata": {},
   "source": [
    "The `verification_status` column \"indicates if income was verified by LC, not verified, or if the income source was verified.\" \n",
    "Since there is not a big difference in the loan repayment rates of those that where the \"Verified\" and those that were \"Source Verified\"; I will group them together."
   ]
  },
  {
   "cell_type": "code",
   "execution_count": 24,
   "metadata": {},
   "outputs": [],
   "source": [
    "df['verification_status'] = df['verification_status'].replace({'Not Verified': 0, 'Source Verified': 1, 'Verified': 2})"
   ]
  },
  {
   "cell_type": "code",
   "execution_count": 25,
   "metadata": {},
   "outputs": [
    {
     "data": {
      "text/plain": [
       "173105"
      ]
     },
     "execution_count": 25,
     "metadata": {},
     "output_type": "execute_result"
    }
   ],
   "source": [
    "df['emp_title'].nunique()"
   ]
  },
  {
   "cell_type": "code",
   "execution_count": 26,
   "metadata": {},
   "outputs": [
    {
     "data": {
      "text/plain": [
       "emp_title\n",
       "False    0.192253\n",
       "True     0.259214\n",
       "Name: loan_status, dtype: float64"
      ]
     },
     "execution_count": 26,
     "metadata": {},
     "output_type": "execute_result"
    }
   ],
   "source": [
    "df.groupby(df['emp_title'].isna())['loan_status'].mean()"
   ]
  },
  {
   "cell_type": "markdown",
   "metadata": {},
   "source": [
    "There are way too many unique values in the `emp_title` to create different columns for them. I thought about dropping the column but I noticed that a missing `emp_title` is associated with not paying back the loan. Below I created a new column `emp_title_present` based on the `emp_title` where one indicates the employee title is present and zero indicates that it is missing. I dropped the original `emp_title`."
   ]
  },
  {
   "cell_type": "code",
   "execution_count": 27,
   "metadata": {},
   "outputs": [],
   "source": [
    "df['emp_title_present'] = df['emp_title'].isna().replace({True: 1, False: 0})"
   ]
  },
  {
   "cell_type": "code",
   "execution_count": 28,
   "metadata": {},
   "outputs": [],
   "source": [
    "df = df.drop(columns='emp_title')"
   ]
  },
  {
   "cell_type": "code",
   "execution_count": 29,
   "metadata": {
    "scrolled": true
   },
   "outputs": [
    {
     "data": {
      "image/png": "[encoded data removed]",
      "text/plain": [
       "<Figure size 1296x432 with 1 Axes>"
      ]
     },
     "metadata": {
      "needs_background": "light"
     },
     "output_type": "display_data"
    }
   ],
   "source": [
    "plt.figure(figsize=(18,6))\n",
    "df.groupby('sub_grade')['loan_status'].mean().plot();"
   ]
  },
  {
   "cell_type": "markdown",
   "metadata": {},
   "source": [
    "There is almost a perfectly negative linear relationship between `sub_grade` and the probability of it being fully paid. Below I convert the `sub_grade` column into a new column which is a numerical representation of the `sub_grade` with a higher number indicating a better score.\n",
    "\n",
    "I drop the `grade` and the `sub_grade` column since I now have a numerical representation of these two columns."
   ]
  },
  {
   "cell_type": "code",
   "execution_count": 30,
   "metadata": {
    "scrolled": true
   },
   "outputs": [],
   "source": [
    "subgrade_to_num_dict = dict(zip(sorted(df.sub_grade.unique()), range(df.sub_grade.nunique(),0,-1)))"
   ]
  },
  {
   "cell_type": "code",
   "execution_count": 31,
   "metadata": {},
   "outputs": [],
   "source": [
    "df['grade_num'] = df['sub_grade'].replace(subgrade_to_num_dict)"
   ]
  },
  {
   "cell_type": "code",
   "execution_count": 32,
   "metadata": {},
   "outputs": [],
   "source": [
    "df = df.drop(columns=['grade', 'sub_grade'])"
   ]
  },
  {
   "cell_type": "code",
   "execution_count": 33,
   "metadata": {},
   "outputs": [
    {
     "data": {
      "text/plain": [
       "issue_d\n",
       "2007    0.164103\n",
       "2008    0.158065\n",
       "2009    0.122582\n",
       "2010    0.132102\n",
       "2011    0.152452\n",
       "2012    0.164798\n",
       "2013    0.157400\n",
       "2014    0.231110\n",
       "2015    0.249013\n",
       "2016    0.131302\n",
       "Name: loan_status, dtype: float64"
      ]
     },
     "execution_count": 33,
     "metadata": {},
     "output_type": "execute_result"
    }
   ],
   "source": [
    "df.groupby(df['issue_d'].dt.year)['loan_status'].mean()"
   ]
  },
  {
   "cell_type": "code",
   "execution_count": 34,
   "metadata": {},
   "outputs": [],
   "source": [
    "df['issue_year'] = df['issue_d'].dt.year"
   ]
  },
  {
   "cell_type": "code",
   "execution_count": 35,
   "metadata": {},
   "outputs": [],
   "source": [
    "df = df.drop(columns = 'issue_d')"
   ]
  },
  {
   "cell_type": "code",
   "execution_count": 36,
   "metadata": {},
   "outputs": [
    {
     "data": {
      "text/plain": [
       "application_type\n",
       "DIRECT_PAY    0.356643\n",
       "INDIVIDUAL    0.196087\n",
       "JOINT         0.127059\n",
       "Name: loan_status, dtype: float64"
      ]
     },
     "execution_count": 36,
     "metadata": {},
     "output_type": "execute_result"
    }
   ],
   "source": [
    "df.groupby(df['application_type'])['loan_status'].mean()"
   ]
  },
  {
   "cell_type": "code",
   "execution_count": 37,
   "metadata": {},
   "outputs": [],
   "source": [
    "df['application_type'] = df['application_type'].replace({'DIRECT_PAY':1, 'INDIVIDUAL':2, 'JOINT':3})"
   ]
  },
  {
   "cell_type": "markdown",
   "metadata": {},
   "source": [
    "### C) Dealing with missing values"
   ]
  },
  {
   "cell_type": "code",
   "execution_count": 38,
   "metadata": {},
   "outputs": [
    {
     "name": "stderr",
     "output_type": "stream",
     "text": [
      "C:\\Users\\dcony\\AppData\\Roaming\\Python\\Python37\\site-packages\\ipykernel_launcher.py:1: FutureWarning: `Series.plot()` should not be called with positional arguments, only keyword arguments. The order of positional arguments will change in the future. Use `Series.plot(kind='barh')` instead of `Series.plot('barh',)`.\n",
      "  \"\"\"Entry point for launching an IPython kernel.\n"
     ]
    },
    {
     "data": {
      "text/plain": [
       "<matplotlib.axes._subplots.AxesSubplot at 0x17a34667a88>"
      ]
     },
     "execution_count": 38,
     "metadata": {},
     "output_type": "execute_result"
    },
    {
     "data": {
      "image/png": "[encoded data removed]",
      "text/plain": [
       "<Figure size 432x288 with 1 Axes>"
      ]
     },
     "metadata": {
      "needs_background": "light"
     },
     "output_type": "display_data"
    }
   ],
   "source": [
    "df.groupby(df['pub_rec_bankruptcies'].isna())['loan_status'].mean().plot('barh')"
   ]
  },
  {
   "cell_type": "markdown",
   "metadata": {},
   "source": [
    "There is not a huge difference between the `pub_rec_bankruptcies` missing values and the `pub_rec_bankruptcies` present values in terms of the probability of paying off the loan. I have decided to fill in the missing values with zero."
   ]
  },
  {
   "cell_type": "code",
   "execution_count": 39,
   "metadata": {},
   "outputs": [],
   "source": [
    "df['pub_rec_bankruptcies'] = df['pub_rec_bankruptcies'].fillna(df['pub_rec_bankruptcies'].mean())\n",
    "df['mort_acc'] = df['mort_acc'].fillna(df['mort_acc'].mean())\n",
    "df['revol_util'] = df['revol_util'].fillna(df['revol_util'].mean())"
   ]
  },
  {
   "cell_type": "code",
   "execution_count": 40,
   "metadata": {},
   "outputs": [
    {
     "name": "stdout",
     "output_type": "stream",
     "text": [
      "<class 'pandas.core.frame.DataFrame'>\n",
      "RangeIndex: 396030 entries, 0 to 396029\n",
      "Data columns (total 49 columns):\n",
      "loan_amnt                     396030 non-null float64\n",
      "term                          396030 non-null int64\n",
      "int_rate                      396030 non-null float64\n",
      "installment                   396030 non-null float64\n",
      "emp_length                    396030 non-null float64\n",
      "annual_inc                    396030 non-null float64\n",
      "verification_status           396030 non-null int64\n",
      "loan_status                   396030 non-null int64\n",
      "dti                           396030 non-null float64\n",
      "open_acc                      396030 non-null float64\n",
      "pub_rec                       396030 non-null float64\n",
      "revol_bal                     396030 non-null float64\n",
      "revol_util                    396030 non-null float64\n",
      "total_acc                     396030 non-null float64\n",
      "application_type              396030 non-null int64\n",
      "mort_acc                      396030 non-null float64\n",
      "pub_rec_bankruptcies          396030 non-null float64\n",
      "is_renter                     396030 non-null int64\n",
      "area_code_05113               396030 non-null uint8\n",
      "area_code_11650               396030 non-null uint8\n",
      "area_code_22690               396030 non-null uint8\n",
      "area_code_29597               396030 non-null uint8\n",
      "area_code_30723               396030 non-null uint8\n",
      "area_code_48052               396030 non-null uint8\n",
      "area_code_70466               396030 non-null uint8\n",
      "area_code_86630               396030 non-null uint8\n",
      "area_code_93700               396030 non-null uint8\n",
      "purpose_credit_card           396030 non-null uint8\n",
      "purpose_debt_consolidation    396030 non-null uint8\n",
      "purpose_educational           396030 non-null uint8\n",
      "purpose_home_improvement      396030 non-null uint8\n",
      "purpose_house                 396030 non-null uint8\n",
      "purpose_major_purchase        396030 non-null uint8\n",
      "purpose_medical               396030 non-null uint8\n",
      "purpose_moving                396030 non-null uint8\n",
      "purpose_other                 396030 non-null uint8\n",
      "purpose_renewable_energy      396030 non-null uint8\n",
      "purpose_small_business        396030 non-null uint8\n",
      "purpose_vacation              396030 non-null uint8\n",
      "purpose_wedding               396030 non-null uint8\n",
      "home_ownership_MORTGAGE       396030 non-null uint8\n",
      "home_ownership_NONE           396030 non-null uint8\n",
      "home_ownership_OTHER          396030 non-null uint8\n",
      "home_ownership_OWN            396030 non-null uint8\n",
      "home_ownership_RENT           396030 non-null uint8\n",
      "initial_list_status_is_w      396030 non-null int64\n",
      "emp_title_present             396030 non-null int64\n",
      "grade_num                     396030 non-null int64\n",
      "issue_year                    396030 non-null int64\n",
      "dtypes: float64(13), int64(9), uint8(27)\n",
      "memory usage: 76.7 MB\n"
     ]
    }
   ],
   "source": [
    "df.info()"
   ]
  },
  {
   "cell_type": "markdown",
   "metadata": {},
   "source": [
    "Finally, our data is in a format in which we can use. There are no missing values and the only column that is not in a numerical format is our `loan_status` column which is our target."
   ]
  },
  {
   "cell_type": "code",
   "execution_count": 41,
   "metadata": {},
   "outputs": [
    {
     "data": {
      "text/plain": [
       "grade_num                    -0.262965\n",
       "area_code_29597              -0.177895\n",
       "area_code_05113              -0.177743\n",
       "mort_acc                     -0.070223\n",
       "home_ownership_MORTGAGE      -0.067024\n",
       "annual_inc                   -0.053432\n",
       "purpose_credit_card          -0.037627\n",
       "total_acc                    -0.017893\n",
       "purpose_home_improvement     -0.016674\n",
       "emp_length                   -0.014147\n",
       "purpose_wedding              -0.012852\n",
       "purpose_major_purchase       -0.011913\n",
       "application_type             -0.011296\n",
       "revol_bal                    -0.010892\n",
       "area_code_22690              -0.002410\n",
       "home_ownership_OTHER         -0.002257\n",
       "purpose_educational          -0.002099\n",
       "purpose_vacation             -0.001371\n",
       "area_code_30723              -0.001260\n",
       "area_code_70466              -0.000515\n",
       "purpose_house                 0.000198\n",
       "home_ownership_NONE           0.000661\n",
       "purpose_renewable_energy      0.002753\n",
       "area_code_48052               0.004110\n",
       "purpose_medical               0.005468\n",
       "purpose_moving                0.008289\n",
       "home_ownership_OWN            0.008726\n",
       "pub_rec_bankruptcies          0.009377\n",
       "initial_list_status_is_w      0.009489\n",
       "purpose_other                 0.009609\n",
       "pub_rec                       0.019933\n",
       "open_acc                      0.028012\n",
       "purpose_small_business        0.029944\n",
       "purpose_debt_consolidation    0.034244\n",
       "emp_title_present             0.039384\n",
       "installment                   0.041082\n",
       "loan_amnt                     0.059836\n",
       "issue_year                    0.060502\n",
       "is_renter                     0.063160\n",
       "home_ownership_RENT           0.063160\n",
       "verification_status           0.077909\n",
       "revol_util                    0.082341\n",
       "dti                           0.125563\n",
       "term                          0.173246\n",
       "int_rate                      0.247758\n",
       "area_code_86630               0.341889\n",
       "area_code_93700               0.344601\n",
       "area_code_11650               0.345792\n",
       "loan_status                   1.000000\n",
       "Name: loan_status, dtype: float64"
      ]
     },
     "execution_count": 41,
     "metadata": {},
     "output_type": "execute_result"
    }
   ],
   "source": [
    "df.corr()['loan_status'].sort_values()"
   ]
  },
  {
   "cell_type": "markdown",
   "metadata": {},
   "source": [
    "## Creating the Model"
   ]
  },
  {
   "cell_type": "code",
   "execution_count": 42,
   "metadata": {},
   "outputs": [
    {
     "data": {
      "text/html": [
       "<div>\n",
       "<style scoped>\n",
       "    .dataframe tbody tr th:only-of-type {\n",
       "        vertical-align: middle;\n",
       "    }\n",
       "\n",
       "    .dataframe tbody tr th {\n",
       "        vertical-align: top;\n",
       "    }\n",
       "\n",
       "    .dataframe thead th {\n",
       "        text-align: right;\n",
       "    }\n",
       "</style>\n",
       "<table border=\"1\" class=\"dataframe\">\n",
       "  <thead>\n",
       "    <tr style=\"text-align: right;\">\n",
       "      <th></th>\n",
       "      <th>loan_amnt</th>\n",
       "      <th>term</th>\n",
       "      <th>int_rate</th>\n",
       "      <th>installment</th>\n",
       "      <th>emp_length</th>\n",
       "      <th>annual_inc</th>\n",
       "      <th>verification_status</th>\n",
       "      <th>dti</th>\n",
       "      <th>open_acc</th>\n",
       "      <th>pub_rec</th>\n",
       "      <th>...</th>\n",
       "      <th>purpose_wedding</th>\n",
       "      <th>home_ownership_MORTGAGE</th>\n",
       "      <th>home_ownership_NONE</th>\n",
       "      <th>home_ownership_OTHER</th>\n",
       "      <th>home_ownership_OWN</th>\n",
       "      <th>home_ownership_RENT</th>\n",
       "      <th>initial_list_status_is_w</th>\n",
       "      <th>emp_title_present</th>\n",
       "      <th>grade_num</th>\n",
       "      <th>issue_year</th>\n",
       "    </tr>\n",
       "  </thead>\n",
       "  <tbody>\n",
       "    <tr>\n",
       "      <th>count</th>\n",
       "      <td>396030.000000</td>\n",
       "      <td>396030.000000</td>\n",
       "      <td>396030.000000</td>\n",
       "      <td>396030.000000</td>\n",
       "      <td>396030.000000</td>\n",
       "      <td>3.960300e+05</td>\n",
       "      <td>396030.000000</td>\n",
       "      <td>396030.000000</td>\n",
       "      <td>396030.000000</td>\n",
       "      <td>396030.000000</td>\n",
       "      <td>...</td>\n",
       "      <td>396030.000000</td>\n",
       "      <td>396030.000000</td>\n",
       "      <td>396030.000000</td>\n",
       "      <td>396030.000000</td>\n",
       "      <td>396030.000000</td>\n",
       "      <td>396030.000000</td>\n",
       "      <td>396030.000000</td>\n",
       "      <td>396030.000000</td>\n",
       "      <td>396030.000000</td>\n",
       "      <td>396030.000000</td>\n",
       "    </tr>\n",
       "    <tr>\n",
       "      <th>mean</th>\n",
       "      <td>14113.888089</td>\n",
       "      <td>41.698053</td>\n",
       "      <td>13.639400</td>\n",
       "      <td>431.849698</td>\n",
       "      <td>7.315296</td>\n",
       "      <td>7.420318e+04</td>\n",
       "      <td>1.036565</td>\n",
       "      <td>17.354309</td>\n",
       "      <td>11.311153</td>\n",
       "      <td>0.178191</td>\n",
       "      <td>...</td>\n",
       "      <td>0.004575</td>\n",
       "      <td>0.500841</td>\n",
       "      <td>0.000078</td>\n",
       "      <td>0.000283</td>\n",
       "      <td>0.095311</td>\n",
       "      <td>0.403480</td>\n",
       "      <td>0.398869</td>\n",
       "      <td>0.057892</td>\n",
       "      <td>23.916519</td>\n",
       "      <td>2013.629074</td>\n",
       "    </tr>\n",
       "    <tr>\n",
       "      <th>std</th>\n",
       "      <td>8357.441341</td>\n",
       "      <td>10.212038</td>\n",
       "      <td>4.472157</td>\n",
       "      <td>250.727790</td>\n",
       "      <td>5.083885</td>\n",
       "      <td>6.163762e+04</td>\n",
       "      <td>0.816645</td>\n",
       "      <td>8.550300</td>\n",
       "      <td>5.137649</td>\n",
       "      <td>0.530671</td>\n",
       "      <td>...</td>\n",
       "      <td>0.067487</td>\n",
       "      <td>0.500000</td>\n",
       "      <td>0.008847</td>\n",
       "      <td>0.016815</td>\n",
       "      <td>0.293644</td>\n",
       "      <td>0.490596</td>\n",
       "      <td>0.489666</td>\n",
       "      <td>0.233540</td>\n",
       "      <td>6.600958</td>\n",
       "      <td>1.481725</td>\n",
       "    </tr>\n",
       "    <tr>\n",
       "      <th>min</th>\n",
       "      <td>500.000000</td>\n",
       "      <td>36.000000</td>\n",
       "      <td>5.320000</td>\n",
       "      <td>16.080000</td>\n",
       "      <td>0.500000</td>\n",
       "      <td>0.000000e+00</td>\n",
       "      <td>0.000000</td>\n",
       "      <td>0.000000</td>\n",
       "      <td>0.000000</td>\n",
       "      <td>0.000000</td>\n",
       "      <td>...</td>\n",
       "      <td>0.000000</td>\n",
       "      <td>0.000000</td>\n",
       "      <td>0.000000</td>\n",
       "      <td>0.000000</td>\n",
       "      <td>0.000000</td>\n",
       "      <td>0.000000</td>\n",
       "      <td>0.000000</td>\n",
       "      <td>0.000000</td>\n",
       "      <td>1.000000</td>\n",
       "      <td>2007.000000</td>\n",
       "    </tr>\n",
       "    <tr>\n",
       "      <th>25%</th>\n",
       "      <td>8000.000000</td>\n",
       "      <td>36.000000</td>\n",
       "      <td>10.490000</td>\n",
       "      <td>250.330000</td>\n",
       "      <td>3.000000</td>\n",
       "      <td>4.500000e+04</td>\n",
       "      <td>0.000000</td>\n",
       "      <td>11.280000</td>\n",
       "      <td>8.000000</td>\n",
       "      <td>0.000000</td>\n",
       "      <td>...</td>\n",
       "      <td>0.000000</td>\n",
       "      <td>0.000000</td>\n",
       "      <td>0.000000</td>\n",
       "      <td>0.000000</td>\n",
       "      <td>0.000000</td>\n",
       "      <td>0.000000</td>\n",
       "      <td>0.000000</td>\n",
       "      <td>0.000000</td>\n",
       "      <td>20.000000</td>\n",
       "      <td>2013.000000</td>\n",
       "    </tr>\n",
       "    <tr>\n",
       "      <th>50%</th>\n",
       "      <td>12000.000000</td>\n",
       "      <td>36.000000</td>\n",
       "      <td>13.330000</td>\n",
       "      <td>375.430000</td>\n",
       "      <td>7.000000</td>\n",
       "      <td>6.400000e+04</td>\n",
       "      <td>1.000000</td>\n",
       "      <td>16.910000</td>\n",
       "      <td>10.000000</td>\n",
       "      <td>0.000000</td>\n",
       "      <td>...</td>\n",
       "      <td>0.000000</td>\n",
       "      <td>1.000000</td>\n",
       "      <td>0.000000</td>\n",
       "      <td>0.000000</td>\n",
       "      <td>0.000000</td>\n",
       "      <td>0.000000</td>\n",
       "      <td>0.000000</td>\n",
       "      <td>0.000000</td>\n",
       "      <td>25.000000</td>\n",
       "      <td>2014.000000</td>\n",
       "    </tr>\n",
       "    <tr>\n",
       "      <th>75%</th>\n",
       "      <td>20000.000000</td>\n",
       "      <td>36.000000</td>\n",
       "      <td>16.490000</td>\n",
       "      <td>567.300000</td>\n",
       "      <td>14.000000</td>\n",
       "      <td>9.000000e+04</td>\n",
       "      <td>2.000000</td>\n",
       "      <td>22.980000</td>\n",
       "      <td>14.000000</td>\n",
       "      <td>0.000000</td>\n",
       "      <td>...</td>\n",
       "      <td>0.000000</td>\n",
       "      <td>1.000000</td>\n",
       "      <td>0.000000</td>\n",
       "      <td>0.000000</td>\n",
       "      <td>0.000000</td>\n",
       "      <td>1.000000</td>\n",
       "      <td>1.000000</td>\n",
       "      <td>0.000000</td>\n",
       "      <td>29.000000</td>\n",
       "      <td>2015.000000</td>\n",
       "    </tr>\n",
       "    <tr>\n",
       "      <th>max</th>\n",
       "      <td>40000.000000</td>\n",
       "      <td>60.000000</td>\n",
       "      <td>30.990000</td>\n",
       "      <td>1533.810000</td>\n",
       "      <td>14.000000</td>\n",
       "      <td>8.706582e+06</td>\n",
       "      <td>2.000000</td>\n",
       "      <td>1622.000000</td>\n",
       "      <td>90.000000</td>\n",
       "      <td>86.000000</td>\n",
       "      <td>...</td>\n",
       "      <td>1.000000</td>\n",
       "      <td>1.000000</td>\n",
       "      <td>1.000000</td>\n",
       "      <td>1.000000</td>\n",
       "      <td>1.000000</td>\n",
       "      <td>1.000000</td>\n",
       "      <td>1.000000</td>\n",
       "      <td>1.000000</td>\n",
       "      <td>35.000000</td>\n",
       "      <td>2016.000000</td>\n",
       "    </tr>\n",
       "  </tbody>\n",
       "</table>\n",
       "<p>8 rows × 48 columns</p>\n",
       "</div>"
      ],
      "text/plain": [
       "           loan_amnt           term       int_rate    installment  \\\n",
       "count  396030.000000  396030.000000  396030.000000  396030.000000   \n",
       "mean    14113.888089      41.698053      13.639400     431.849698   \n",
       "std      8357.441341      10.212038       4.472157     250.727790   \n",
       "min       500.000000      36.000000       5.320000      16.080000   \n",
       "25%      8000.000000      36.000000      10.490000     250.330000   \n",
       "50%     12000.000000      36.000000      13.330000     375.430000   \n",
       "75%     20000.000000      36.000000      16.490000     567.300000   \n",
       "max     40000.000000      60.000000      30.990000    1533.810000   \n",
       "\n",
       "          emp_length    annual_inc  verification_status            dti  \\\n",
       "count  396030.000000  3.960300e+05        396030.000000  396030.000000   \n",
       "mean        7.315296  7.420318e+04             1.036565      17.354309   \n",
       "std         5.083885  6.163762e+04             0.816645       8.550300   \n",
       "min         0.500000  0.000000e+00             0.000000       0.000000   \n",
       "25%         3.000000  4.500000e+04             0.000000      11.280000   \n",
       "50%         7.000000  6.400000e+04             1.000000      16.910000   \n",
       "75%        14.000000  9.000000e+04             2.000000      22.980000   \n",
       "max        14.000000  8.706582e+06             2.000000    1622.000000   \n",
       "\n",
       "            open_acc        pub_rec  ...  purpose_wedding  \\\n",
       "count  396030.000000  396030.000000  ...    396030.000000   \n",
       "mean       11.311153       0.178191  ...         0.004575   \n",
       "std         5.137649       0.530671  ...         0.067487   \n",
       "min         0.000000       0.000000  ...         0.000000   \n",
       "25%         8.000000       0.000000  ...         0.000000   \n",
       "50%        10.000000       0.000000  ...         0.000000   \n",
       "75%        14.000000       0.000000  ...         0.000000   \n",
       "max        90.000000      86.000000  ...         1.000000   \n",
       "\n",
       "       home_ownership_MORTGAGE  home_ownership_NONE  home_ownership_OTHER  \\\n",
       "count            396030.000000        396030.000000         396030.000000   \n",
       "mean                  0.500841             0.000078              0.000283   \n",
       "std                   0.500000             0.008847              0.016815   \n",
       "min                   0.000000             0.000000              0.000000   \n",
       "25%                   0.000000             0.000000              0.000000   \n",
       "50%                   1.000000             0.000000              0.000000   \n",
       "75%                   1.000000             0.000000              0.000000   \n",
       "max                   1.000000             1.000000              1.000000   \n",
       "\n",
       "       home_ownership_OWN  home_ownership_RENT  initial_list_status_is_w  \\\n",
       "count       396030.000000        396030.000000             396030.000000   \n",
       "mean             0.095311             0.403480                  0.398869   \n",
       "std              0.293644             0.490596                  0.489666   \n",
       "min              0.000000             0.000000                  0.000000   \n",
       "25%              0.000000             0.000000                  0.000000   \n",
       "50%              0.000000             0.000000                  0.000000   \n",
       "75%              0.000000             1.000000                  1.000000   \n",
       "max              1.000000             1.000000                  1.000000   \n",
       "\n",
       "       emp_title_present      grade_num     issue_year  \n",
       "count      396030.000000  396030.000000  396030.000000  \n",
       "mean            0.057892      23.916519    2013.629074  \n",
       "std             0.233540       6.600958       1.481725  \n",
       "min             0.000000       1.000000    2007.000000  \n",
       "25%             0.000000      20.000000    2013.000000  \n",
       "50%             0.000000      25.000000    2014.000000  \n",
       "75%             0.000000      29.000000    2015.000000  \n",
       "max             1.000000      35.000000    2016.000000  \n",
       "\n",
       "[8 rows x 48 columns]"
      ]
     },
     "execution_count": 42,
     "metadata": {},
     "output_type": "execute_result"
    }
   ],
   "source": [
    "df.drop(columns='loan_status').describe()"
   ]
  },
  {
   "cell_type": "code",
   "execution_count": 43,
   "metadata": {},
   "outputs": [],
   "source": [
    "X = df.drop(columns='loan_status').values\n",
    "y = df['loan_status'].values"
   ]
  },
  {
   "cell_type": "code",
   "execution_count": 44,
   "metadata": {},
   "outputs": [],
   "source": [
    "from sklearn.model_selection import train_test_split\n",
    "from sklearn.preprocessing import MinMaxScaler"
   ]
  },
  {
   "cell_type": "code",
   "execution_count": 45,
   "metadata": {},
   "outputs": [],
   "source": [
    "X_train, X_test, y_train, y_test = train_test_split(X, y, test_size=0.2, random_state=84)"
   ]
  },
  {
   "cell_type": "code",
   "execution_count": 46,
   "metadata": {},
   "outputs": [
    {
     "data": {
      "text/plain": [
       "(316824, 48)"
      ]
     },
     "execution_count": 46,
     "metadata": {},
     "output_type": "execute_result"
    }
   ],
   "source": [
    "X_train.shape"
   ]
  },
  {
   "cell_type": "markdown",
   "metadata": {},
   "source": [
    "### Scaling the features"
   ]
  },
  {
   "cell_type": "code",
   "execution_count": 47,
   "metadata": {},
   "outputs": [],
   "source": [
    "scaler = MinMaxScaler()"
   ]
  },
  {
   "cell_type": "code",
   "execution_count": 48,
   "metadata": {},
   "outputs": [],
   "source": [
    "X_train = scaler.fit_transform(X_train)\n",
    "X_test = scaler.transform(X_test)"
   ]
  },
  {
   "cell_type": "markdown",
   "metadata": {},
   "source": [
    "### Creating the Model"
   ]
  },
  {
   "cell_type": "code",
   "execution_count": 49,
   "metadata": {},
   "outputs": [],
   "source": [
    "from tensorflow.keras.models import Sequential\n",
    "from tensorflow.keras.layers import Dense, Dropout\n",
    "from tensorflow.keras.callbacks import EarlyStopping"
   ]
  },
  {
   "cell_type": "code",
   "execution_count": 50,
   "metadata": {},
   "outputs": [],
   "source": [
    "model = Sequential()\n",
    "\n",
    "model.add(Dense(48, activation='relu'))\n",
    "model.add(Dropout(0.2))\n",
    "\n",
    "model.add(Dense(64, activation='relu'))\n",
    "model.add(Dropout(0.2))\n",
    "\n",
    "model.add(Dense(32, activation='relu'))\n",
    "model.add(Dropout(0.2))\n",
    "\n",
    "model.add(Dense(1, activation='sigmoid'))\n",
    "\n",
    "model.compile(loss='binary_crossentropy', optimizer='adam')"
   ]
  },
  {
   "cell_type": "code",
   "execution_count": 51,
   "metadata": {},
   "outputs": [],
   "source": [
    "early_stop = EarlyStopping(monitor='val_loss', mode='min', verbose=1, patience=10)"
   ]
  },
  {
   "cell_type": "markdown",
   "metadata": {},
   "source": [
    "## Fitting the Model"
   ]
  },
  {
   "cell_type": "code",
   "execution_count": 52,
   "metadata": {},
   "outputs": [
    {
     "name": "stdout",
     "output_type": "stream",
     "text": [
      "Train on 316824 samples, validate on 79206 samples\n",
      "Epoch 1/200\n",
      "316824/316824 [==============================] - 14s 43us/sample - loss: 0.2740 - val_loss: 0.2576\n",
      "Epoch 2/200\n",
      "316824/316824 [==============================] - 13s 41us/sample - loss: 0.2618 - val_loss: 0.2592\n",
      "Epoch 3/200\n",
      "316824/316824 [==============================] - 15s 49us/sample - loss: 0.2607 - val_loss: 0.2588A: 1s - l - E\n",
      "Epoch 4/200\n",
      "316824/316824 [==============================] - 14s 45us/sample - loss: 0.2600 - val_loss: 0.2582\n",
      "Epoch 5/200\n",
      "316824/316824 [==============================] - 15s 47us/sample - loss: 0.2597 - val_loss: 0.2562\n",
      "Epoch 6/200\n",
      "316824/316824 [==============================] - 14s 45us/sample - loss: 0.2592 - val_loss: 0.2563\n",
      "Epoch 7/200\n",
      "316824/316824 [==============================] - 14s 44us/sample - loss: 0.2592 - val_loss: 0.2557\n",
      "Epoch 8/200\n",
      "316824/316824 [==============================] - 14s 44us/sample - loss: 0.2590 - val_loss: 0.2566\n",
      "Epoch 9/200\n",
      "316824/316824 [==============================] - 14s 44us/sample - loss: 0.2586 - val_loss: 0.2550\n",
      "Epoch 10/200\n",
      "316824/316824 [==============================] - 14s 44us/sample - loss: 0.2582 - val_loss: 0.2554\n",
      "Epoch 11/200\n",
      "316824/316824 [==============================] - 14s 44us/sample - loss: 0.2582 - val_loss: 0.2560\n",
      "Epoch 12/200\n",
      "316824/316824 [==============================] - 14s 44us/sample - loss: 0.2580 - val_loss: 0.2553\n",
      "Epoch 13/200\n",
      "316824/316824 [==============================] - 14s 44us/sample - loss: 0.2579 - val_loss: 0.2545\n",
      "Epoch 14/200\n",
      "316824/316824 [==============================] - 14s 44us/sample - loss: 0.2575 - val_loss: 0.2554\n",
      "Epoch 15/200\n",
      "316824/316824 [==============================] - 14s 44us/sample - loss: 0.2576 - val_loss: 0.2547\n",
      "Epoch 16/200\n",
      "316824/316824 [==============================] - 14s 45us/sample - loss: 0.2577 - val_loss: 0.2549\n",
      "Epoch 17/200\n",
      "316824/316824 [==============================] - 14s 45us/sample - loss: 0.2576 - val_loss: 0.2557\n",
      "Epoch 18/200\n",
      "316824/316824 [==============================] - 14s 44us/sample - loss: 0.2573 - val_loss: 0.2542\n",
      "Epoch 19/200\n",
      "316824/316824 [==============================] - 14s 44us/sample - loss: 0.2573 - val_loss: 0.2536\n",
      "Epoch 20/200\n",
      "316824/316824 [==============================] - 14s 46us/sample - loss: 0.2570 - val_loss: 0.2553\n",
      "Epoch 21/200\n",
      "316824/316824 [==============================] - 14s 45us/sample - loss: 0.2572 - val_loss: 0.2544\n",
      "Epoch 22/200\n",
      "316824/316824 [==============================] - 14s 44us/sample - loss: 0.2571 - val_loss: 0.2535\n",
      "Epoch 23/200\n",
      "316824/316824 [==============================] - 14s 44us/sample - loss: 0.2570 - val_loss: 0.2539\n",
      "Epoch 24/200\n",
      "316824/316824 [==============================] - 14s 45us/sample - loss: 0.2572 - val_loss: 0.2542\n",
      "Epoch 25/200\n",
      "316824/316824 [==============================] - 14s 45us/sample - loss: 0.2570 - val_loss: 0.2536\n",
      "Epoch 26/200\n",
      "316824/316824 [==============================] - 14s 45us/sample - loss: 0.2571 - val_loss: 0.2542\n",
      "Epoch 27/200\n",
      "316824/316824 [==============================] - 14s 44us/sample - loss: 0.2569 - val_loss: 0.2545\n",
      "Epoch 28/200\n",
      "316824/316824 [==============================] - 14s 45us/sample - loss: 0.2564 - val_loss: 0.2544\n",
      "Epoch 29/200\n",
      "316824/316824 [==============================] - 14s 45us/sample - loss: 0.2567 - val_loss: 0.2550\n",
      "Epoch 30/200\n",
      "316824/316824 [==============================] - 14s 45us/sample - loss: 0.2568 - val_loss: 0.2541\n",
      "Epoch 31/200\n",
      "316824/316824 [==============================] - 14s 45us/sample - loss: 0.2566 - val_loss: 0.2542\n",
      "Epoch 32/200\n",
      "316824/316824 [==============================] - 14s 45us/sample - loss: 0.2566 - val_loss: 0.2548\n",
      "Epoch 00032: early stopping\n"
     ]
    },
    {
     "data": {
      "text/plain": [
       "<tensorflow.python.keras.callbacks.History at 0x17a401da188>"
      ]
     },
     "execution_count": 52,
     "metadata": {},
     "output_type": "execute_result"
    }
   ],
   "source": [
    "model.fit(X_train, y_train, epochs=200, workers=-1, callbacks=[early_stop],\n",
    "          validation_data=(X_test, y_test))"
   ]
  },
  {
   "cell_type": "markdown",
   "metadata": {},
   "source": [
    "### Predictions of the Model"
   ]
  },
  {
   "cell_type": "code",
   "execution_count": 53,
   "metadata": {},
   "outputs": [
    {
     "data": {
      "text/plain": [
       "<matplotlib.axes._subplots.AxesSubplot at 0x17a413e2a08>"
      ]
     },
     "execution_count": 53,
     "metadata": {},
     "output_type": "execute_result"
    },
    {
     "data": {
      "image/png": "[encoded data removed]",
      "text/plain": [
       "<Figure size 432x288 with 1 Axes>"
      ]
     },
     "metadata": {
      "needs_background": "light"
     },
     "output_type": "display_data"
    }
   ],
   "source": [
    "pd.DataFrame(model.history.history).plot()"
   ]
  },
  {
   "cell_type": "code",
   "execution_count": 54,
   "metadata": {},
   "outputs": [],
   "source": [
    "y_pred = model.predict_classes(X_test)"
   ]
  },
  {
   "cell_type": "code",
   "execution_count": 55,
   "metadata": {},
   "outputs": [],
   "source": [
    "from sklearn.metrics import classification_report, confusion_matrix"
   ]
  },
  {
   "cell_type": "code",
   "execution_count": 56,
   "metadata": {},
   "outputs": [
    {
     "name": "stdout",
     "output_type": "stream",
     "text": [
      "              precision    recall  f1-score   support\n",
      "\n",
      "           0       0.88      1.00      0.94     63844\n",
      "           1       0.99      0.43      0.60     15362\n",
      "\n",
      "    accuracy                           0.89     79206\n",
      "   macro avg       0.94      0.71      0.77     79206\n",
      "weighted avg       0.90      0.89      0.87     79206\n",
      "\n",
      "\n",
      "[[63809    35]\n",
      " [ 8800  6562]]\n"
     ]
    }
   ],
   "source": [
    "print(classification_report(y_test, y_pred))\n",
    "print(\"\")\n",
    "print(confusion_matrix(y_test, y_pred))"
   ]
  }
 ],
 "metadata": {
  "kernelspec": {
   "display_name": "tf_gpu",
   "language": "python",
   "name": "tf_gpu"
  },
  "language_info": {
   "codemirror_mode": {
    "name": "ipython",
    "version": 3
   },
   "file_extension": ".py",
   "mimetype": "text/x-python",
   "name": "python",
   "nbconvert_exporter": "python",
   "pygments_lexer": "ipython3",
   "version": "3.7.6"
  }
 },
 "nbformat": 4,
 "nbformat_minor": 2
}
